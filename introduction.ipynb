{
 "cells": [
  {
   "cell_type": "markdown",
   "metadata": {},
   "source": [
    "# Introduction"
   ]
  },
  {
   "cell_type": "code",
   "execution_count": 1,
   "metadata": {},
   "outputs": [
    {
     "name": "stdout",
     "output_type": "stream",
     "text": [
      "Hello world!"
     ]
    }
   ],
   "source": [
    "print(\"Hello world!\")"
   ]
  },
  {
   "cell_type": "markdown",
   "metadata": {},
   "source": [
    "## Some LeetCode problems\n",
    "1. **TwoSum** [Easy]: Given an array of integers `numbers` and an integer `target`, return indices of the two numbers such that they add up to target. You may assume that each input would have exactly one solution, and you may not use the same element twice. You can return the answer in any order.\n",
    "```\n",
    "Input: nums = [2,7,11,15], target = 9\n",
    "Output: [0,1]\n",
    "Explanation: Because nums[0] + nums[1] == 9, we return [0, 1].\n",
    "```"
   ]
  },
  {
   "cell_type": "code",
   "execution_count": 2,
   "metadata": {},
   "outputs": [
    {
     "data": {
      "text/plain": [
       "twosum (generic function with 1 method)"
      ]
     },
     "execution_count": 2,
     "metadata": {},
     "output_type": "execute_result"
    }
   ],
   "source": [
    "function twosum(numbers::Vector{Int}, target::Int)\n",
    "    lookup = Dict{Int, Int}()\n",
    "    for (index, number) in enumerate(numbers)\n",
    "        if haskey(lookup, target-number)\n",
    "            return [lookup[target-number], index]\n",
    "        else\n",
    "            lookup[number] = index\n",
    "        end\n",
    "    end\n",
    "end"
   ]
  },
  {
   "cell_type": "code",
   "execution_count": 3,
   "metadata": {},
   "outputs": [],
   "source": [
    "numbers = [0, 3, 4, 10, 11]\n",
    "target = 13\n",
    "@assert(twosum(numbers, target) == [2, 4])\n",
    "\n",
    "numbers = [3, 3]\n",
    "target = 6\n",
    "@assert(twosum(numbers, target) == [1, 2])\n",
    "\n",
    "numbers = [4, 5, 6, 10, 13]\n",
    "target = 17\n",
    "@assert(twosum(numbers, target) == [1, 5])"
   ]
  },
  {
   "cell_type": "markdown",
   "metadata": {},
   "source": [
    "2. **Palindrome** [Easy]: Determine whether or not a given integer `num` is a palindrome."
   ]
  },
  {
   "cell_type": "code",
   "execution_count": 4,
   "metadata": {},
   "outputs": [
    {
     "data": {
      "text/plain": [
       "ispalindrome (generic function with 1 method)"
      ]
     },
     "execution_count": 4,
     "metadata": {},
     "output_type": "execute_result"
    }
   ],
   "source": [
    "function ispalindrome(num::Int)\n",
    "    numstring::String = string(num)\n",
    "    numlength::Int = sizeof(numstring)\n",
    "    all([numstring[index] == numstring[numlength - index + 1] for index in 1:(numlength ÷ 2)])\n",
    "end"
   ]
  },
  {
   "cell_type": "code",
   "execution_count": 5,
   "metadata": {},
   "outputs": [],
   "source": [
    "num = 1234321\n",
    "@assert(ispalindrome(num))\n",
    "\n",
    "num = 121121\n",
    "@assert(ispalindrome(num))\n",
    "\n",
    "num = 123456\n",
    "@assert(~ispalindrome(num))"
   ]
  },
  {
   "cell_type": "code",
   "execution_count": null,
   "metadata": {},
   "outputs": [],
   "source": []
  }
 ],
 "metadata": {
  "kernelspec": {
   "display_name": "Julia 1.8.0",
   "language": "julia",
   "name": "julia-1.8"
  },
  "language_info": {
   "file_extension": ".jl",
   "mimetype": "application/julia",
   "name": "julia",
   "version": "1.8.0"
  }
 },
 "nbformat": 4,
 "nbformat_minor": 4
}

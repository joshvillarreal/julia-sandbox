{
 "cells": [
  {
   "cell_type": "markdown",
   "metadata": {},
   "source": [
    "# Introduction to Julia"
   ]
  },
  {
   "cell_type": "code",
   "execution_count": 1,
   "metadata": {},
   "outputs": [
    {
     "name": "stdout",
     "output_type": "stream",
     "text": [
      "Hello world!"
     ]
    }
   ],
   "source": [
    "print(\"Hello world!\")"
   ]
  },
  {
   "cell_type": "markdown",
   "metadata": {},
   "source": [
    "## Some LeetCode problems\n",
    "**TwoSum** [Easy]: Given an array of integers `numbers` and an integer `target`, return indices of the two numbers such that they add up to target. You may assume that each input would have exactly one solution, and you may not use the same element twice. You can return the answer in any order.\n",
    "```\n",
    "Input: nums = [2,7,11,15], target = 9\n",
    "Output: [0,1]\n",
    "Explanation: Because nums[0] + nums[1] == 9, we return [0, 1].\n",
    "```"
   ]
  },
  {
   "cell_type": "code",
   "execution_count": 2,
   "metadata": {},
   "outputs": [
    {
     "data": {
      "text/plain": [
       "twosum (generic function with 1 method)"
      ]
     },
     "execution_count": 2,
     "metadata": {},
     "output_type": "execute_result"
    }
   ],
   "source": [
    "function twosum(numbers::Vector{Int}, target::Int)\n",
    "    lookup = Dict{Int, Int}()\n",
    "    for (index, number) in enumerate(numbers)\n",
    "        if haskey(lookup, target-number)\n",
    "            return [lookup[target-number], index]\n",
    "        else\n",
    "            lookup[number] = index\n",
    "        end\n",
    "    end\n",
    "end"
   ]
  },
  {
   "cell_type": "code",
   "execution_count": 3,
   "metadata": {},
   "outputs": [],
   "source": [
    "numbers = [0, 3, 4, 10, 11]\n",
    "target = 13\n",
    "@assert(twosum(numbers, target) == [2, 4])\n",
    "\n",
    "numbers = [3, 3]\n",
    "target = 6\n",
    "@assert(twosum(numbers, target) == [1, 2])\n",
    "\n",
    "numbers = [4, 5, 6, 10, 13]\n",
    "target = 17\n",
    "@assert(twosum(numbers, target) == [1, 5])"
   ]
  },
  {
   "cell_type": "markdown",
   "metadata": {},
   "source": [
    "**Palindrome** [Easy]: Determine whether or not a given integer `num` is a palindrome."
   ]
  },
  {
   "cell_type": "code",
   "execution_count": 4,
   "metadata": {},
   "outputs": [
    {
     "data": {
      "text/plain": [
       "ispalindrome (generic function with 1 method)"
      ]
     },
     "execution_count": 4,
     "metadata": {},
     "output_type": "execute_result"
    }
   ],
   "source": [
    "function ispalindrome(num::Int)\n",
    "    numstring::String = string(num)\n",
    "    numlength::Int = sizeof(numstring)\n",
    "    all([numstring[index] == numstring[numlength - index + 1] for index in 1:(numlength ÷ 2)])\n",
    "end"
   ]
  },
  {
   "cell_type": "code",
   "execution_count": 5,
   "metadata": {},
   "outputs": [],
   "source": [
    "num = 1234321\n",
    "@assert(ispalindrome(num))\n",
    "\n",
    "num = 121121\n",
    "@assert(ispalindrome(num))\n",
    "\n",
    "num = 123456\n",
    "@assert(~ispalindrome(num))"
   ]
  },
  {
   "cell_type": "markdown",
   "metadata": {},
   "source": [
    "**Merge two sorted lists** [Easy]: You are given two sorted linked lists `list1` and `list2`. Merge the two lists into one sorted list."
   ]
  },
  {
   "cell_type": "code",
   "execution_count": 6,
   "metadata": {},
   "outputs": [
    {
     "data": {
      "text/plain": [
       "mergetwolists (generic function with 1 method)"
      ]
     },
     "execution_count": 6,
     "metadata": {},
     "output_type": "execute_result"
    }
   ],
   "source": [
    "function mergetwolists(list1::Vector, list2::Vector)\n",
    "    combinedlist::Vector = []\n",
    "    list1indexer::Int = 1; list2indexer::Int = 1\n",
    "    list1length::Int = length(list1); list2length::Int = length(list2)\n",
    "    \n",
    "    while list1indexer + list2indexer < list1length + list2length + 2\n",
    "        if list1indexer > list1length\n",
    "            append!(combinedlist, list2[list2indexer:end])\n",
    "            break\n",
    "        elseif list2indexer > list2length\n",
    "            append!(combinedlist, list1[list1indexer:end])\n",
    "            break\n",
    "        else\n",
    "            nextlist1value = list1[list1indexer]; nextlist2value = list2[list2indexer]\n",
    "            if nextlist1value <= nextlist2value\n",
    "                append!(combinedlist, nextlist1value)\n",
    "                list1indexer += 1\n",
    "            else\n",
    "                append!(combinedlist, nextlist2value)\n",
    "                list2indexer += 1\n",
    "            end\n",
    "        end\n",
    "    end\n",
    "    combinedlist\n",
    "end"
   ]
  },
  {
   "cell_type": "code",
   "execution_count": 7,
   "metadata": {},
   "outputs": [],
   "source": [
    "list1 = [1, 2, 3, 4]; list2 = [1, 2, 3]\n",
    "@assert(mergetwolists(list1, list2) == [1, 1, 2, 2, 3, 3, 4])\n",
    "\n",
    "list1 = [1, 2]; list2 = [3, 4]\n",
    "@assert(mergetwolists(list1, list2) == [1, 2, 3, 4])\n",
    "\n",
    "list1 = []; list2 = [1, 2]\n",
    "@assert(mergetwolists(list1, list2) == [1, 2])\n",
    "\n",
    "list1 = [2, 2, 2, 2]; list2 = [2, 2, 2]\n",
    "@assert(mergetwolists(list1, list2) == [2, 2, 2, 2, 2, 2, 2])"
   ]
  },
  {
   "cell_type": "code",
   "execution_count": null,
   "metadata": {},
   "outputs": [],
   "source": []
  }
 ],
 "metadata": {
  "kernelspec": {
   "display_name": "Julia 1.8.0",
   "language": "julia",
   "name": "julia-1.8"
  },
  "language_info": {
   "file_extension": ".jl",
   "mimetype": "application/julia",
   "name": "julia",
   "version": "1.8.0"
  }
 },
 "nbformat": 4,
 "nbformat_minor": 4
}
